{
  "nbformat": 4,
  "nbformat_minor": 0,
  "metadata": {
    "colab": {
      "provenance": []
    },
    "kernelspec": {
      "name": "python3",
      "display_name": "Python 3"
    },
    "language_info": {
      "name": "python"
    }
  },
  "cells": [
    {
      "cell_type": "code",
      "execution_count": null,
      "metadata": {
        "id": "6cGGoBSrKjBB"
      },
      "outputs": [],
      "source": [
        "# Apply support vector machine for text classification\n",
        "import nltk\n",
        "from nltk.corpus import stopwords\n",
        "from nltk.tokenize import word_tokenize\n",
        "\n",
        "\n",
        "import numpy as np\n",
        "from sklearn.model_selection import train_test_split\n",
        "from sklearn.feature_extraction.text import TfidfVectorizer\n",
        "from sklearn.svm import SVC\n",
        "from sklearn.metrics import accuracy_score, classification_report\n",
        "\n",
        "# 1. Download NLTK resources (if not already downloaded)\n",
        "nltk.download('punkt')\n",
        "nltk.download('stopwords')\n",
        "\n",
        "# 2. Sample data (replace with your own dataset)\n",
        "documents = [\n",
        "    (\"This is a document about machine learning.\", \"technology\"),\n",
        "    (\"Another document discussing artificial intelligence.\", \"technology\"),\n",
        "    (\"This document focuses on natural language processing.\", \"technology\"),\n",
        "    (\"A document related to deep learning and neural networks.\", \"technology\"),\n",
        "    (\"This document explores the field of data science.\", \"technology\"),\n",
        "    (\"This is a news article about the economy.\", \"business\"),\n",
        "    (\"The stock market is experiencing volatility.\", \"business\"),\n",
        "    (\"Financial reports indicate a recession.\", \"business\"),\n",
        "    (\"The company announced a merger.\", \"business\"),\n",
        "    (\"Consumer spending is on the rise.\", \"business\"),\n",
        "]\n",
        "\n",
        "# 3. Preprocessing\n",
        "stop_words = set(stopwords.words(\"english\"))\n",
        "processed_docs = [\n",
        "    \" \".join([word.lower() for word in word_tokenize(doc) if word.isalpha() and word.lower() not in stop_words])\n",
        "    for doc, _ in documents\n",
        "]\n",
        "labels = [label for _, label in documents]\n",
        "\n",
        "# 4. Feature extraction using TF-IDF\n",
        "vectorizer = TfidfVectorizer()\n",
        "features = vectorizer.fit_transform(processed_docs)\n",
        "\n",
        "# 5. Split data into training and testing sets\n",
        "X_train, X_test, y_train, y_test = train_test_split(features, labels, test_size=0.2, random_state=42)\n",
        "\n",
        "# 6. Train the SVM model\n",
        "svm_model = SVC(kernel='linear')  # You can experiment with different kernels\n",
        "svm_model.fit(X_train, y_train)\n",
        "\n",
        "# 7. Make predictions on the test set\n",
        "predictions = svm_model.predict(X_test)\n",
        "\n",
        "# 8. Evaluate the model\n",
        "accuracy = accuracy_score(y_test, predictions)\n",
        "report = classification_report(y_test, predictions)\n",
        "\n",
        "print(f\"Accuracy: {accuracy}\")\n",
        "print(f\"Classification Report:\\n{report}\")"
      ]
    }
  ]
}